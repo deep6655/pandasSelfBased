{
 "cells": [
  {
   "cell_type": "code",
   "execution_count": 2,
   "id": "a650196d",
   "metadata": {},
   "outputs": [],
   "source": [
    "import pandas as pd"
   ]
  },
  {
   "cell_type": "code",
   "execution_count": 3,
   "id": "3bdae708",
   "metadata": {},
   "outputs": [
    {
     "data": {
      "text/html": [
       "<div>\n",
       "<style scoped>\n",
       "    .dataframe tbody tr th:only-of-type {\n",
       "        vertical-align: middle;\n",
       "    }\n",
       "\n",
       "    .dataframe tbody tr th {\n",
       "        vertical-align: top;\n",
       "    }\n",
       "\n",
       "    .dataframe thead th {\n",
       "        text-align: right;\n",
       "    }\n",
       "</style>\n",
       "<table border=\"1\" class=\"dataframe\">\n",
       "  <thead>\n",
       "    <tr style=\"text-align: right;\">\n",
       "      <th></th>\n",
       "      <th>Url Car</th>\n",
       "      <th>Name</th>\n",
       "      <th>Price</th>\n",
       "      <th>Brand</th>\n",
       "      <th>Condition</th>\n",
       "      <th>Img</th>\n",
       "      <th>Img Url</th>\n",
       "    </tr>\n",
       "  </thead>\n",
       "  <tbody>\n",
       "    <tr>\n",
       "      <th>0</th>\n",
       "      <td>https://ikman.lk/en/ad/audi-a4-20tdi-2014-for-...</td>\n",
       "      <td>Audi A4 2.0TDi 2014</td>\n",
       "      <td>72500</td>\n",
       "      <td>Audi</td>\n",
       "      <td>Used</td>\n",
       "      <td>Img/0.png</td>\n",
       "      <td>https://i.ikman-st.com/audi-a4-20tdi-2014-for-...</td>\n",
       "    </tr>\n",
       "    <tr>\n",
       "      <th>1</th>\n",
       "      <td>https://ikman.lk/en/ad/mercedes-benz-e300-nigh...</td>\n",
       "      <td>Mercedes Benz E300 Night Edition 2015</td>\n",
       "      <td>107500</td>\n",
       "      <td>Mercedes Benz</td>\n",
       "      <td>Used</td>\n",
       "      <td>Img/0.png</td>\n",
       "      <td>https://i.ikman-st.com/mercedes-benz-e300-nigh...</td>\n",
       "    </tr>\n",
       "    <tr>\n",
       "      <th>2</th>\n",
       "      <td>https://ikman.lk/en/ad/mercedes-benz-c200-head...</td>\n",
       "      <td>Mercedes Benz C200 headup display 2015</td>\n",
       "      <td>109000</td>\n",
       "      <td>Mercedes Benz</td>\n",
       "      <td>Used</td>\n",
       "      <td>Img/0.png</td>\n",
       "      <td>https://i.ikman-st.com/mercedes-benz-c200-head...</td>\n",
       "    </tr>\n",
       "    <tr>\n",
       "      <th>3</th>\n",
       "      <td>https://ikman.lk/en/ad/toyota-axio-x-grade-200...</td>\n",
       "      <td>Toyota Axio X Grade 2007</td>\n",
       "      <td>31125</td>\n",
       "      <td>Toyota</td>\n",
       "      <td>Used</td>\n",
       "      <td>Img/0.png</td>\n",
       "      <td>https://i.ikman-st.com/toyota-axio-x-grade-200...</td>\n",
       "    </tr>\n",
       "    <tr>\n",
       "      <th>4</th>\n",
       "      <td>https://ikman.lk/en/ad/micro-panda-12000kms-20...</td>\n",
       "      <td>Micro Panda 12000KMs 2015</td>\n",
       "      <td>12475</td>\n",
       "      <td>Micro</td>\n",
       "      <td>Used</td>\n",
       "      <td>Img/0.png</td>\n",
       "      <td>https://i.ikman-st.com/micro-panda-12000kms-20...</td>\n",
       "    </tr>\n",
       "    <tr>\n",
       "      <th>5</th>\n",
       "      <td>https://ikman.lk/en/ad/nissan-sunny-fb15-super...</td>\n",
       "      <td>Nissan Sunny FB15 SUPER SLOON 2001</td>\n",
       "      <td>20250</td>\n",
       "      <td>Nissan</td>\n",
       "      <td>Used</td>\n",
       "      <td>Img/0.png</td>\n",
       "      <td>https://i.ikman-st.com/nissan-sunny-fb15-super...</td>\n",
       "    </tr>\n",
       "  </tbody>\n",
       "</table>\n",
       "</div>"
      ],
      "text/plain": [
       "                                             Url Car  \\\n",
       "0  https://ikman.lk/en/ad/audi-a4-20tdi-2014-for-...   \n",
       "1  https://ikman.lk/en/ad/mercedes-benz-e300-nigh...   \n",
       "2  https://ikman.lk/en/ad/mercedes-benz-c200-head...   \n",
       "3  https://ikman.lk/en/ad/toyota-axio-x-grade-200...   \n",
       "4  https://ikman.lk/en/ad/micro-panda-12000kms-20...   \n",
       "5  https://ikman.lk/en/ad/nissan-sunny-fb15-super...   \n",
       "\n",
       "                                     Name   Price          Brand Condition  \\\n",
       "0                     Audi A4 2.0TDi 2014   72500           Audi      Used   \n",
       "1   Mercedes Benz E300 Night Edition 2015  107500  Mercedes Benz      Used   \n",
       "2  Mercedes Benz C200 headup display 2015  109000  Mercedes Benz      Used   \n",
       "3                Toyota Axio X Grade 2007   31125         Toyota      Used   \n",
       "4               Micro Panda 12000KMs 2015   12475          Micro      Used   \n",
       "5      Nissan Sunny FB15 SUPER SLOON 2001   20250         Nissan      Used   \n",
       "\n",
       "         Img                                            Img Url  \n",
       "0  Img/0.png  https://i.ikman-st.com/audi-a4-20tdi-2014-for-...  \n",
       "1  Img/0.png  https://i.ikman-st.com/mercedes-benz-e300-nigh...  \n",
       "2  Img/0.png  https://i.ikman-st.com/mercedes-benz-c200-head...  \n",
       "3  Img/0.png  https://i.ikman-st.com/toyota-axio-x-grade-200...  \n",
       "4  Img/0.png  https://i.ikman-st.com/micro-panda-12000kms-20...  \n",
       "5  Img/0.png  https://i.ikman-st.com/nissan-sunny-fb15-super...  "
      ]
     },
     "execution_count": 3,
     "metadata": {},
     "output_type": "execute_result"
    }
   ],
   "source": [
    "#no of rows only load specefic rows\n",
    "df = pd.read_csv('C:/Users/Ratnadeep/Desktop/python/Self Based Pandas/data.csv',nrows=6)\n",
    "df"
   ]
  },
  {
   "cell_type": "code",
   "execution_count": 4,
   "id": "32df6b80",
   "metadata": {},
   "outputs": [
    {
     "data": {
      "text/plain": [
       "<pandas.io.parsers.TextFileReader at 0x2381282ec10>"
      ]
     },
     "execution_count": 4,
     "metadata": {},
     "output_type": "execute_result"
    }
   ],
   "source": [
    "#only read some specific bytes size of data.bt not store as a data frame\n",
    "chk_size = pd.read_csv('C:/Users/Ratnadeep/Desktop/python/Self Based Pandas/data.csv',chunksize=1000)\n",
    "chk_size"
   ]
  },
  {
   "cell_type": "code",
   "execution_count": 4,
   "id": "136bd8fc",
   "metadata": {},
   "outputs": [],
   "source": [
    "#save data\n",
    "df.to_csv('C:/Users/Ratnadeep/Desktop/python/Self Based Pandas/new_save_data.csv')"
   ]
  },
  {
   "cell_type": "code",
   "execution_count": 5,
   "id": "47c6b9f3",
   "metadata": {},
   "outputs": [],
   "source": [
    "#sotre data set separated by other separator\n",
    "df.to_csv('C:/Users/Ratnadeep/Desktop/python/Self Based Pandas/xyz.csv',sep='@')"
   ]
  },
  {
   "cell_type": "code",
   "execution_count": 26,
   "id": "eba6e61d",
   "metadata": {},
   "outputs": [
    {
     "data": {
      "text/html": [
       "<div>\n",
       "<style scoped>\n",
       "    .dataframe tbody tr th:only-of-type {\n",
       "        vertical-align: middle;\n",
       "    }\n",
       "\n",
       "    .dataframe tbody tr th {\n",
       "        vertical-align: top;\n",
       "    }\n",
       "\n",
       "    .dataframe thead th {\n",
       "        text-align: right;\n",
       "    }\n",
       "</style>\n",
       "<table border=\"1\" class=\"dataframe\">\n",
       "  <thead>\n",
       "    <tr style=\"text-align: right;\">\n",
       "      <th></th>\n",
       "      <th>id</th>\n",
       "      <th>name</th>\n",
       "      <th>sal</th>\n",
       "    </tr>\n",
       "  </thead>\n",
       "  <tbody>\n",
       "    <tr>\n",
       "      <th>0</th>\n",
       "      <td>1</td>\n",
       "      <td>NaN</td>\n",
       "      <td>2000.0</td>\n",
       "    </tr>\n",
       "    <tr>\n",
       "      <th>1</th>\n",
       "      <td>1</td>\n",
       "      <td>ratna</td>\n",
       "      <td>3000.0</td>\n",
       "    </tr>\n",
       "    <tr>\n",
       "      <th>2</th>\n",
       "      <td>1</td>\n",
       "      <td>puja</td>\n",
       "      <td>NaN</td>\n",
       "    </tr>\n",
       "    <tr>\n",
       "      <th>3</th>\n",
       "      <td>2</td>\n",
       "      <td>deep</td>\n",
       "      <td>200.0</td>\n",
       "    </tr>\n",
       "    <tr>\n",
       "      <th>4</th>\n",
       "      <td>2</td>\n",
       "      <td>NaN</td>\n",
       "      <td>3565.0</td>\n",
       "    </tr>\n",
       "    <tr>\n",
       "      <th>5</th>\n",
       "      <td>2</td>\n",
       "      <td>puja</td>\n",
       "      <td>NaN</td>\n",
       "    </tr>\n",
       "  </tbody>\n",
       "</table>\n",
       "</div>"
      ],
      "text/plain": [
       "   id   name     sal\n",
       "0   1    NaN  2000.0\n",
       "1   1  ratna  3000.0\n",
       "2   1   puja     NaN\n",
       "3   2   deep   200.0\n",
       "4   2    NaN  3565.0\n",
       "5   2   puja     NaN"
      ]
     },
     "execution_count": 26,
     "metadata": {},
     "output_type": "execute_result"
    }
   ],
   "source": [
    "null_data = pd.read_table('C:/Users/Ratnadeep/Desktop/python/Self Based Pandas/null_data.txt')\n",
    "null_data"
   ]
  },
  {
   "cell_type": "code",
   "execution_count": 27,
   "id": "b76906da",
   "metadata": {},
   "outputs": [
    {
     "name": "stdout",
     "output_type": "stream",
     "text": [
      "0,1,null,2000.0\r\n",
      "1,1,ratna,3000.0\r\n",
      "2,1,puja,null\r\n",
      "3,2,deep,200.0\r\n",
      "4,2,null,3565.0\r\n",
      "5,2,puja,null\r\n"
     ]
    }
   ],
   "source": [
    "#replace null with a value but we will not do this things\n",
    "import sys\n",
    "null_data.to_csv(sys.stdout,na_rep='null',header=False)"
   ]
  },
  {
   "cell_type": "code",
   "execution_count": 6,
   "id": "0c656392",
   "metadata": {},
   "outputs": [],
   "source": [
    "#data save without index and header\n",
    "df.to_csv('C:/Users/Ratnadeep/Desktop/python/Self Based Pandas/pqr.csv',header=False,index=False)"
   ]
  },
  {
   "cell_type": "code",
   "execution_count": 29,
   "id": "5f6e2abb",
   "metadata": {},
   "outputs": [
    {
     "data": {
      "text/html": [
       "<div>\n",
       "<style scoped>\n",
       "    .dataframe tbody tr th:only-of-type {\n",
       "        vertical-align: middle;\n",
       "    }\n",
       "\n",
       "    .dataframe tbody tr th {\n",
       "        vertical-align: top;\n",
       "    }\n",
       "\n",
       "    .dataframe thead th {\n",
       "        text-align: right;\n",
       "    }\n",
       "</style>\n",
       "<table border=\"1\" class=\"dataframe\">\n",
       "  <thead>\n",
       "    <tr style=\"text-align: right;\">\n",
       "      <th></th>\n",
       "      <th>id</th>\n",
       "      <th>name</th>\n",
       "      <th>sal</th>\n",
       "    </tr>\n",
       "  </thead>\n",
       "  <tbody>\n",
       "    <tr>\n",
       "      <th>0</th>\n",
       "      <td>1</td>\n",
       "      <td>NaN</td>\n",
       "      <td>2000.0</td>\n",
       "    </tr>\n",
       "    <tr>\n",
       "      <th>1</th>\n",
       "      <td>1</td>\n",
       "      <td>ratna</td>\n",
       "      <td>3000.0</td>\n",
       "    </tr>\n",
       "    <tr>\n",
       "      <th>2</th>\n",
       "      <td>1</td>\n",
       "      <td>puja</td>\n",
       "      <td>NaN</td>\n",
       "    </tr>\n",
       "    <tr>\n",
       "      <th>3</th>\n",
       "      <td>2</td>\n",
       "      <td>deep</td>\n",
       "      <td>200.0</td>\n",
       "    </tr>\n",
       "    <tr>\n",
       "      <th>4</th>\n",
       "      <td>2</td>\n",
       "      <td>NaN</td>\n",
       "      <td>3565.0</td>\n",
       "    </tr>\n",
       "    <tr>\n",
       "      <th>5</th>\n",
       "      <td>2</td>\n",
       "      <td>puja</td>\n",
       "      <td>NaN</td>\n",
       "    </tr>\n",
       "  </tbody>\n",
       "</table>\n",
       "</div>"
      ],
      "text/plain": [
       "   id   name     sal\n",
       "0   1    NaN  2000.0\n",
       "1   1  ratna  3000.0\n",
       "2   1   puja     NaN\n",
       "3   2   deep   200.0\n",
       "4   2    NaN  3565.0\n",
       "5   2   puja     NaN"
      ]
     },
     "execution_count": 29,
     "metadata": {},
     "output_type": "execute_result"
    }
   ],
   "source": [
    "null_data"
   ]
  },
  {
   "cell_type": "code",
   "execution_count": 35,
   "id": "cb86bec1",
   "metadata": {},
   "outputs": [],
   "source": [
    "#with  column name store\n",
    "null_data.to_csv('C:/Users/Ratnadeep/Desktop/python/Self Based Pandas/pqr_new_column.csv',index=False,columns=['name','sal'])"
   ]
  },
  {
   "cell_type": "code",
   "execution_count": 2,
   "id": "860bcef6",
   "metadata": {},
   "outputs": [
    {
     "data": {
      "text/plain": [
       "DatetimeIndex(['2000-01-01', '2000-01-02', '2000-01-03', '2000-01-04',\n",
       "               '2000-01-05', '2000-01-06', '2000-01-07', '2000-01-08',\n",
       "               '2000-01-09', '2000-01-10'],\n",
       "              dtype='datetime64[ns]', freq='D')"
      ]
     },
     "execution_count": 2,
     "metadata": {},
     "output_type": "execute_result"
    }
   ],
   "source": [
    "#create date in a range\n",
    "date_range = pd.date_range('01/01/2000',periods=10)\n",
    "date_range"
   ]
  },
  {
   "cell_type": "code",
   "execution_count": 3,
   "id": "461ac624",
   "metadata": {},
   "outputs": [
    {
     "data": {
      "text/plain": [
       "pandas.core.indexes.datetimes.DatetimeIndex"
      ]
     },
     "execution_count": 3,
     "metadata": {},
     "output_type": "execute_result"
    }
   ],
   "source": [
    "type(date_range)"
   ]
  },
  {
   "cell_type": "code",
   "execution_count": 7,
   "id": "7655ff17",
   "metadata": {},
   "outputs": [
    {
     "data": {
      "text/plain": [
       "2000-01-01    0\n",
       "2000-01-02    1\n",
       "2000-01-03    2\n",
       "2000-01-04    3\n",
       "2000-01-05    4\n",
       "2000-01-06    5\n",
       "2000-01-07    6\n",
       "2000-01-08    7\n",
       "2000-01-09    8\n",
       "2000-01-10    9\n",
       "Freq: D, dtype: int32"
      ]
     },
     "execution_count": 7,
     "metadata": {},
     "output_type": "execute_result"
    }
   ],
   "source": [
    "import numpy as np\n",
    "ts = pd.Series(np.arange(10),index=date_range)\n",
    "ts"
   ]
  },
  {
   "cell_type": "code",
   "execution_count": 11,
   "id": "f1e3929d",
   "metadata": {},
   "outputs": [
    {
     "data": {
      "text/plain": [
       "deep     0\n",
       "ratna    1\n",
       "rahul    2\n",
       "dtype: int32"
      ]
     },
     "execution_count": 11,
     "metadata": {},
     "output_type": "execute_result"
    }
   ],
   "source": [
    "ta = pd.Series(np.arange(3),index=['deep','ratna','rahul'])\n",
    "ta"
   ]
  },
  {
   "cell_type": "code",
   "execution_count": 52,
   "id": "43722867",
   "metadata": {},
   "outputs": [],
   "source": [
    "ts.to_csv('C:/Users/Ratnadeep/Desktop/python/Self Based Pandas/date1.csv')"
   ]
  },
  {
   "cell_type": "code",
   "execution_count": 7,
   "id": "6f75c899",
   "metadata": {},
   "outputs": [
    {
     "data": {
      "text/plain": [
       "<_csv.reader at 0x1aa5d01e5e0>"
      ]
     },
     "execution_count": 7,
     "metadata": {},
     "output_type": "execute_result"
    }
   ],
   "source": [
    "#other way without using pandas.not recomandate\n",
    "import csv\n",
    "f = open('date1.csv')\n",
    "reader = csv.reader(f)\n",
    "reader"
   ]
  },
  {
   "cell_type": "code",
   "execution_count": 55,
   "id": "66da3c81",
   "metadata": {},
   "outputs": [
    {
     "name": "stdout",
     "output_type": "stream",
     "text": [
      "['', '0']\n",
      "['2000-01-01', '0']\n",
      "['2000-01-02', '1']\n",
      "['2000-01-03', '2']\n",
      "['2000-01-04', '3']\n",
      "['2000-01-05', '4']\n",
      "['2000-01-06', '5']\n",
      "['2000-01-07', '6']\n",
      "['2000-01-08', '7']\n",
      "['2000-01-09', '8']\n",
      "['2000-01-10', '9']\n"
     ]
    }
   ],
   "source": [
    "for i in reader:\n",
    "    print(i)"
   ]
  },
  {
   "cell_type": "code",
   "execution_count": 2,
   "id": "96306494",
   "metadata": {},
   "outputs": [
    {
     "data": {
      "text/html": [
       "<div>\n",
       "<style scoped>\n",
       "    .dataframe tbody tr th:only-of-type {\n",
       "        vertical-align: middle;\n",
       "    }\n",
       "\n",
       "    .dataframe tbody tr th {\n",
       "        vertical-align: top;\n",
       "    }\n",
       "\n",
       "    .dataframe thead th {\n",
       "        text-align: right;\n",
       "    }\n",
       "</style>\n",
       "<table border=\"1\" class=\"dataframe\">\n",
       "  <thead>\n",
       "    <tr style=\"text-align: right;\">\n",
       "      <th></th>\n",
       "      <th>id</th>\n",
       "      <th>name</th>\n",
       "      <th>sal</th>\n",
       "    </tr>\n",
       "  </thead>\n",
       "  <tbody>\n",
       "    <tr>\n",
       "      <th>0</th>\n",
       "      <td>1</td>\n",
       "      <td>deep</td>\n",
       "      <td>2000</td>\n",
       "    </tr>\n",
       "    <tr>\n",
       "      <th>1</th>\n",
       "      <td>2</td>\n",
       "      <td>ratna</td>\n",
       "      <td>3000</td>\n",
       "    </tr>\n",
       "    <tr>\n",
       "      <th>2</th>\n",
       "      <td>3</td>\n",
       "      <td>puja</td>\n",
       "      <td>120</td>\n",
       "    </tr>\n",
       "  </tbody>\n",
       "</table>\n",
       "</div>"
      ],
      "text/plain": [
       "   id   name   sal\n",
       "0   1   deep  2000\n",
       "1   2  ratna  3000\n",
       "2   3   puja   120"
      ]
     },
     "execution_count": 2,
     "metadata": {},
     "output_type": "execute_result"
    }
   ],
   "source": [
    "df3 = pd.read_table('C:/Users/Ratnadeep/Desktop/python/Self Based Pandas/Tabseparated _data.txt')\n",
    "df3"
   ]
  },
  {
   "cell_type": "code",
   "execution_count": 41,
   "id": "2b1143a7",
   "metadata": {},
   "outputs": [
    {
     "data": {
      "text/plain": [
       "[['a', 'b', 'c'], ['1', '2', '3'], ['3', '4', '6'], ['7', '8', '9']]"
      ]
     },
     "execution_count": 41,
     "metadata": {},
     "output_type": "execute_result"
    }
   ],
   "source": [
    "with open('C:/Users/Ratnadeep/Desktop/python/Self Based Pandas/zip.txt') as f:\n",
    "    lines = list(csv.reader(f))\n",
    "lines"
   ]
  },
  {
   "cell_type": "code",
   "execution_count": 42,
   "id": "2924d0c3",
   "metadata": {},
   "outputs": [],
   "source": [
    "header , values = lines[0],lines[1:]"
   ]
  },
  {
   "cell_type": "code",
   "execution_count": 43,
   "id": "1da4073a",
   "metadata": {},
   "outputs": [
    {
     "data": {
      "text/plain": [
       "['a', 'b', 'c']"
      ]
     },
     "execution_count": 43,
     "metadata": {},
     "output_type": "execute_result"
    }
   ],
   "source": [
    "header"
   ]
  },
  {
   "cell_type": "code",
   "execution_count": 44,
   "id": "4725c326",
   "metadata": {},
   "outputs": [
    {
     "data": {
      "text/plain": [
       "[['1', '2', '3'], ['3', '4', '6'], ['7', '8', '9']]"
      ]
     },
     "execution_count": 44,
     "metadata": {},
     "output_type": "execute_result"
    }
   ],
   "source": [
    "values"
   ]
  },
  {
   "cell_type": "code",
   "execution_count": 45,
   "id": "dae22622",
   "metadata": {},
   "outputs": [
    {
     "data": {
      "text/plain": [
       "<zip at 0x1aa5e587040>"
      ]
     },
     "execution_count": 45,
     "metadata": {},
     "output_type": "execute_result"
    }
   ],
   "source": [
    "#zip alaways take iterable object\n",
    "zip(lines)"
   ]
  },
  {
   "cell_type": "code",
   "execution_count": 46,
   "id": "8643425d",
   "metadata": {},
   "outputs": [
    {
     "data": {
      "text/plain": [
       "[(['a', 'b', 'c'],),\n",
       " (['1', '2', '3'],),\n",
       " (['3', '4', '6'],),\n",
       " (['7', '8', '9'],)]"
      ]
     },
     "execution_count": 46,
     "metadata": {},
     "output_type": "execute_result"
    }
   ],
   "source": [
    "list(zip(lines))"
   ]
  },
  {
   "cell_type": "code",
   "execution_count": 47,
   "id": "00bd90ea",
   "metadata": {},
   "outputs": [
    {
     "data": {
      "text/plain": [
       "[('1', '3', '7'), ('2', '4', '8'), ('3', '6', '9')]"
      ]
     },
     "execution_count": 47,
     "metadata": {},
     "output_type": "execute_result"
    }
   ],
   "source": [
    "list(zip(*values))"
   ]
  },
  {
   "cell_type": "code",
   "execution_count": 48,
   "id": "7ce3a4a5",
   "metadata": {},
   "outputs": [
    {
     "data": {
      "text/plain": [
       "[('a', ('1', '3', '7')), ('b', ('2', '4', '8')), ('c', ('3', '6', '9'))]"
      ]
     },
     "execution_count": 48,
     "metadata": {},
     "output_type": "execute_result"
    }
   ],
   "source": [
    "list(zip(header,zip(*values)))"
   ]
  },
  {
   "cell_type": "code",
   "execution_count": 52,
   "id": "afb90921",
   "metadata": {},
   "outputs": [
    {
     "data": {
      "text/plain": [
       "'a'"
      ]
     },
     "execution_count": 52,
     "metadata": {},
     "output_type": "execute_result"
    }
   ],
   "source": [
    "#for check\n",
    "c,n = ('a', ('1', '3', '7'))\n",
    "c"
   ]
  },
  {
   "cell_type": "code",
   "execution_count": 53,
   "id": "df3ddf7b",
   "metadata": {},
   "outputs": [
    {
     "data": {
      "text/plain": [
       "('1', '3', '7')"
      ]
     },
     "execution_count": 53,
     "metadata": {},
     "output_type": "execute_result"
    }
   ],
   "source": [
    "n"
   ]
  },
  {
   "cell_type": "code",
   "execution_count": 54,
   "id": "d0c231fb",
   "metadata": {},
   "outputs": [
    {
     "data": {
      "text/plain": [
       "{'a': ('1', '3', '7'), 'b': ('2', '4', '8'), 'c': ('3', '6', '9')}"
      ]
     },
     "execution_count": 54,
     "metadata": {},
     "output_type": "execute_result"
    }
   ],
   "source": [
    "#in dictonary\n",
    "data_dict = {h:v for h,v in list(zip(header,zip(*values)))}\n",
    "data_dict"
   ]
  },
  {
   "cell_type": "markdown",
   "id": "ee07bbec",
   "metadata": {},
   "source": [
    "# JSON Data"
   ]
  },
  {
   "cell_type": "code",
   "execution_count": 8,
   "id": "c39a8348",
   "metadata": {},
   "outputs": [
    {
     "data": {
      "text/plain": [
       "str"
      ]
     },
     "execution_count": 8,
     "metadata": {},
     "output_type": "execute_result"
    }
   ],
   "source": [
    "obj = \"\"\"\n",
    "{\n",
    "\t\"id\": \"0001\",\n",
    "\t\"type\": \"donut\",\n",
    "\t\"name\": \"Cake\",\n",
    "\t\"ppu\": 0.55,\n",
    "\t\"batters\":\n",
    "\t\t{\n",
    "\t\t\t\"batter\":\n",
    "\t\t\t\t[\n",
    "\t\t\t\t\t{ \"id\": \"1001\", \"type\": \"Regular\" },\n",
    "\t\t\t\t\t{ \"id\": \"1002\", \"type\": \"Chocolate\" },\n",
    "\t\t\t\t\t{ \"id\": \"1003\", \"type\": \"Blueberry\" },\n",
    "\t\t\t\t\t{ \"id\": \"1004\", \"type\": \"Devil's Food\" }\n",
    "\t\t\t\t]\n",
    "\t\t},\n",
    "\t\"topping\":\n",
    "\t\t[\n",
    "\t\t\t{ \"id\": \"5001\", \"type\": \"None\" },\n",
    "\t\t\t{ \"id\": \"5002\", \"type\": \"Glazed\" },\n",
    "\t\t\t{ \"id\": \"5005\", \"type\": \"Sugar\" },\n",
    "\t\t\t{ \"id\": \"5007\", \"type\": \"Powdered Sugar\" },\n",
    "\t\t\t{ \"id\": \"5006\", \"type\": \"Chocolate with Sprinkles\" },\n",
    "\t\t\t{ \"id\": \"5003\", \"type\": \"Chocolate\" },\n",
    "\t\t\t{ \"id\": \"5004\", \"type\": \"Maple\" }\n",
    "\t\t]\n",
    "}\n",
    "\"\"\"\n",
    "type(obj)"
   ]
  },
  {
   "cell_type": "code",
   "execution_count": 47,
   "id": "42bad800",
   "metadata": {},
   "outputs": [
    {
     "data": {
      "text/plain": [
       "{'id': '0001',\n",
       " 'type': 'donut',\n",
       " 'name': 'Cake',\n",
       " 'ppu': 0.55,\n",
       " 'batters': {'batter': [{'id': '1001', 'type': 'Regular'},\n",
       "   {'id': '1002', 'type': 'Chocolate'},\n",
       "   {'id': '1003', 'type': 'Blueberry'},\n",
       "   {'id': '1004', 'type': \"Devil's Food\"}]},\n",
       " 'topping': [{'id': '5001', 'type': 'None'},\n",
       "  {'id': '5002', 'type': 'Glazed'},\n",
       "  {'id': '5005', 'type': 'Sugar'},\n",
       "  {'id': '5007', 'type': 'Powdered Sugar'},\n",
       "  {'id': '5006', 'type': 'Chocolate with Sprinkles'},\n",
       "  {'id': '5003', 'type': 'Chocolate'},\n",
       "  {'id': '5004', 'type': 'Maple'}]}"
      ]
     },
     "execution_count": 47,
     "metadata": {},
     "output_type": "execute_result"
    }
   ],
   "source": [
    "#we can convert only those string to dictonary which strings are compatible of json \n",
    "import json;\n",
    "result = json.loads(obj)\n",
    "result"
   ]
  },
  {
   "cell_type": "code",
   "execution_count": 10,
   "id": "645dcfcd",
   "metadata": {},
   "outputs": [
    {
     "data": {
      "text/plain": [
       "dict"
      ]
     },
     "execution_count": 10,
     "metadata": {},
     "output_type": "execute_result"
    }
   ],
   "source": [
    "type(result)"
   ]
  },
  {
   "cell_type": "code",
   "execution_count": 11,
   "id": "a00baa6a",
   "metadata": {},
   "outputs": [
    {
     "data": {
      "text/plain": [
       "str"
      ]
     },
     "execution_count": 11,
     "metadata": {},
     "output_type": "execute_result"
    }
   ],
   "source": [
    "#conver again in str\n",
    "ajson = json.dumps(result)\n",
    "type(ajson)"
   ]
  },
  {
   "cell_type": "code",
   "execution_count": 12,
   "id": "1b77dc3a",
   "metadata": {},
   "outputs": [
    {
     "data": {
      "text/html": [
       "<div>\n",
       "<style scoped>\n",
       "    .dataframe tbody tr th:only-of-type {\n",
       "        vertical-align: middle;\n",
       "    }\n",
       "\n",
       "    .dataframe tbody tr th {\n",
       "        vertical-align: top;\n",
       "    }\n",
       "\n",
       "    .dataframe thead th {\n",
       "        text-align: right;\n",
       "    }\n",
       "</style>\n",
       "<table border=\"1\" class=\"dataframe\">\n",
       "  <thead>\n",
       "    <tr style=\"text-align: right;\">\n",
       "      <th></th>\n",
       "      <th>id</th>\n",
       "      <th>type</th>\n",
       "    </tr>\n",
       "  </thead>\n",
       "  <tbody>\n",
       "    <tr>\n",
       "      <th>0</th>\n",
       "      <td>5001</td>\n",
       "      <td>None</td>\n",
       "    </tr>\n",
       "    <tr>\n",
       "      <th>1</th>\n",
       "      <td>5002</td>\n",
       "      <td>Glazed</td>\n",
       "    </tr>\n",
       "    <tr>\n",
       "      <th>2</th>\n",
       "      <td>5005</td>\n",
       "      <td>Sugar</td>\n",
       "    </tr>\n",
       "    <tr>\n",
       "      <th>3</th>\n",
       "      <td>5007</td>\n",
       "      <td>Powdered Sugar</td>\n",
       "    </tr>\n",
       "    <tr>\n",
       "      <th>4</th>\n",
       "      <td>5006</td>\n",
       "      <td>Chocolate with Sprinkles</td>\n",
       "    </tr>\n",
       "    <tr>\n",
       "      <th>5</th>\n",
       "      <td>5003</td>\n",
       "      <td>Chocolate</td>\n",
       "    </tr>\n",
       "    <tr>\n",
       "      <th>6</th>\n",
       "      <td>5004</td>\n",
       "      <td>Maple</td>\n",
       "    </tr>\n",
       "  </tbody>\n",
       "</table>\n",
       "</div>"
      ],
      "text/plain": [
       "     id                      type\n",
       "0  5001                      None\n",
       "1  5002                    Glazed\n",
       "2  5005                     Sugar\n",
       "3  5007            Powdered Sugar\n",
       "4  5006  Chocolate with Sprinkles\n",
       "5  5003                 Chocolate\n",
       "6  5004                     Maple"
      ]
     },
     "execution_count": 12,
     "metadata": {},
     "output_type": "execute_result"
    }
   ],
   "source": [
    "#convert json in dataframe\n",
    "topping = pd.DataFrame(result['topping'],columns=['id','type'])\n",
    "topping"
   ]
  },
  {
   "cell_type": "code",
   "execution_count": 13,
   "id": "a19b4a4a",
   "metadata": {},
   "outputs": [
    {
     "data": {
      "text/html": [
       "<div>\n",
       "<style scoped>\n",
       "    .dataframe tbody tr th:only-of-type {\n",
       "        vertical-align: middle;\n",
       "    }\n",
       "\n",
       "    .dataframe tbody tr th {\n",
       "        vertical-align: top;\n",
       "    }\n",
       "\n",
       "    .dataframe thead th {\n",
       "        text-align: right;\n",
       "    }\n",
       "</style>\n",
       "<table border=\"1\" class=\"dataframe\">\n",
       "  <thead>\n",
       "    <tr style=\"text-align: right;\">\n",
       "      <th></th>\n",
       "      <th>id</th>\n",
       "      <th>type</th>\n",
       "    </tr>\n",
       "  </thead>\n",
       "  <tbody>\n",
       "    <tr>\n",
       "      <th>0</th>\n",
       "      <td>5001</td>\n",
       "      <td>None</td>\n",
       "    </tr>\n",
       "    <tr>\n",
       "      <th>1</th>\n",
       "      <td>5002</td>\n",
       "      <td>Glazed</td>\n",
       "    </tr>\n",
       "    <tr>\n",
       "      <th>2</th>\n",
       "      <td>5005</td>\n",
       "      <td>Sugar</td>\n",
       "    </tr>\n",
       "    <tr>\n",
       "      <th>3</th>\n",
       "      <td>5007</td>\n",
       "      <td>Powdered Sugar</td>\n",
       "    </tr>\n",
       "    <tr>\n",
       "      <th>4</th>\n",
       "      <td>5006</td>\n",
       "      <td>Chocolate with Sprinkles</td>\n",
       "    </tr>\n",
       "    <tr>\n",
       "      <th>5</th>\n",
       "      <td>5003</td>\n",
       "      <td>Chocolate</td>\n",
       "    </tr>\n",
       "    <tr>\n",
       "      <th>6</th>\n",
       "      <td>5004</td>\n",
       "      <td>Maple</td>\n",
       "    </tr>\n",
       "  </tbody>\n",
       "</table>\n",
       "</div>"
      ],
      "text/plain": [
       "     id                      type\n",
       "0  5001                      None\n",
       "1  5002                    Glazed\n",
       "2  5005                     Sugar\n",
       "3  5007            Powdered Sugar\n",
       "4  5006  Chocolate with Sprinkles\n",
       "5  5003                 Chocolate\n",
       "6  5004                     Maple"
      ]
     },
     "execution_count": 13,
     "metadata": {},
     "output_type": "execute_result"
    }
   ],
   "source": [
    "topping = pd.DataFrame(result['topping'])\n",
    "topping"
   ]
  },
  {
   "cell_type": "code",
   "execution_count": null,
   "id": "1cd4df67",
   "metadata": {},
   "outputs": [],
   "source": []
  },
  {
   "cell_type": "code",
   "execution_count": 19,
   "id": "05147987",
   "metadata": {},
   "outputs": [
    {
     "data": {
      "text/html": [
       "<div>\n",
       "<style scoped>\n",
       "    .dataframe tbody tr th:only-of-type {\n",
       "        vertical-align: middle;\n",
       "    }\n",
       "\n",
       "    .dataframe tbody tr th {\n",
       "        vertical-align: top;\n",
       "    }\n",
       "\n",
       "    .dataframe thead th {\n",
       "        text-align: right;\n",
       "    }\n",
       "</style>\n",
       "<table border=\"1\" class=\"dataframe\">\n",
       "  <thead>\n",
       "    <tr style=\"text-align: right;\">\n",
       "      <th></th>\n",
       "      <th>id</th>\n",
       "      <th>type</th>\n",
       "      <th>name</th>\n",
       "      <th>ppu</th>\n",
       "    </tr>\n",
       "  </thead>\n",
       "  <tbody>\n",
       "    <tr>\n",
       "      <th>0</th>\n",
       "      <td>1</td>\n",
       "      <td>donut</td>\n",
       "      <td>Cake</td>\n",
       "      <td>0.55</td>\n",
       "    </tr>\n",
       "    <tr>\n",
       "      <th>1</th>\n",
       "      <td>1</td>\n",
       "      <td>donut</td>\n",
       "      <td>Cake</td>\n",
       "      <td>0.55</td>\n",
       "    </tr>\n",
       "  </tbody>\n",
       "</table>\n",
       "</div>"
      ],
      "text/plain": [
       "   id   type  name   ppu\n",
       "0   1  donut  Cake  0.55\n",
       "1   1  donut  Cake  0.55"
      ]
     },
     "execution_count": 19,
     "metadata": {},
     "output_type": "execute_result"
    }
   ],
   "source": [
    "jasn = pd.read_json('C:/Users/Ratnadeep/Desktop/python/Self Based Pandas/sample3.json')\n",
    "jasn"
   ]
  },
  {
   "cell_type": "code",
   "execution_count": 20,
   "id": "9df34fe8",
   "metadata": {},
   "outputs": [
    {
     "name": "stdout",
     "output_type": "stream",
     "text": [
      "{\"id\":{\"0\":1,\"1\":1},\"type\":{\"0\":\"donut\",\"1\":\"donut\"},\"name\":{\"0\":\"Cake\",\"1\":\"Cake\"},\"ppu\":{\"0\":0.55,\"1\":0.55}}\n"
     ]
    }
   ],
   "source": [
    "#store data in json\n",
    "print(jasn.to_json())"
   ]
  },
  {
   "cell_type": "code",
   "execution_count": 21,
   "id": "f79fbd85",
   "metadata": {},
   "outputs": [
    {
     "name": "stdout",
     "output_type": "stream",
     "text": [
      "[{\"id\":1,\"type\":\"donut\",\"name\":\"Cake\",\"ppu\":0.55},{\"id\":1,\"type\":\"donut\",\"name\":\"Cake\",\"ppu\":0.55}]\n"
     ]
    }
   ],
   "source": [
    "#store in actual json format\n",
    "print(jasn.to_json(orient='records'))"
   ]
  },
  {
   "cell_type": "code",
   "execution_count": 24,
   "id": "9429c538",
   "metadata": {},
   "outputs": [
    {
     "data": {
      "text/plain": [
       "[      Rk          Player Pos Age   Tm   G  GS    MP   FG  FGA  ...   FT%  ORB  \\\n",
       " 0      1      Quincy Acy  PF  24  NYK  68  22  1287  152  331  ...  .784   79   \n",
       " 1      2    Jordan Adams  SG  20  MEM  30   0   248   35   86  ...  .609    9   \n",
       " 2      3    Steven Adams   C  21  OKC  70  67  1771  217  399  ...  .502  199   \n",
       " 3      4     Jeff Adrien  PF  28  MIN  17   0   215   19   44  ...  .579   23   \n",
       " 4      5   Arron Afflalo  SG  29  TOT  78  72  2502  375  884  ...  .843   27   \n",
       " ..   ...             ...  ..  ..  ...  ..  ..   ...  ...  ...  ...   ...  ...   \n",
       " 670  490  Thaddeus Young  PF  26  TOT  76  68  2434  451  968  ...  .655  127   \n",
       " 671  490  Thaddeus Young  PF  26  MIN  48  48  1605  289  641  ...  .682   75   \n",
       " 672  490  Thaddeus Young  PF  26  BRK  28  20   829  162  327  ...  .606   52   \n",
       " 673  491     Cody Zeller   C  22  CHO  62  45  1487  172  373  ...  .774   97   \n",
       " 674  492    Tyler Zeller   C  25  BOS  82  59  1731  340  619  ...  .823  146   \n",
       " \n",
       "      DRB  TRB  AST  STL BLK  TOV   PF   PTS  \n",
       " 0    222  301   68   27  22   60  147   398  \n",
       " 1     19   28   16   16   7   14   24    94  \n",
       " 2    324  523   66   38  86   99  222   537  \n",
       " 3     54   77   15    4   9    9   30    60  \n",
       " 4    220  247  129   41   7  116  167  1035  \n",
       " ..   ...  ...  ...  ...  ..  ...  ...   ...  \n",
       " 670  284  411  173  124  25  117  171  1071  \n",
       " 671  170  245  135   86  17   75  115   685  \n",
       " 672  114  166   38   38   8   42   56   386  \n",
       " 673  265  362  100   34  49   62  156   472  \n",
       " 674  319  465  113   18  52   76  205   833  \n",
       " \n",
       " [675 rows x 30 columns]]"
      ]
     },
     "execution_count": 24,
     "metadata": {},
     "output_type": "execute_result"
    }
   ],
   "source": [
    "#web Data\n",
    "web_data = pd.read_html('https://www.basketball-reference.com/leagues/NBA_2015_totals.html')\n",
    "web_data"
   ]
  },
  {
   "cell_type": "code",
   "execution_count": 25,
   "id": "f819943a",
   "metadata": {},
   "outputs": [
    {
     "data": {
      "text/plain": [
       "1"
      ]
     },
     "execution_count": 25,
     "metadata": {},
     "output_type": "execute_result"
    }
   ],
   "source": [
    "len(web_data)"
   ]
  },
  {
   "cell_type": "code",
   "execution_count": 26,
   "id": "586bbe5a",
   "metadata": {},
   "outputs": [
    {
     "data": {
      "text/html": [
       "<div>\n",
       "<style scoped>\n",
       "    .dataframe tbody tr th:only-of-type {\n",
       "        vertical-align: middle;\n",
       "    }\n",
       "\n",
       "    .dataframe tbody tr th {\n",
       "        vertical-align: top;\n",
       "    }\n",
       "\n",
       "    .dataframe thead th {\n",
       "        text-align: right;\n",
       "    }\n",
       "</style>\n",
       "<table border=\"1\" class=\"dataframe\">\n",
       "  <thead>\n",
       "    <tr style=\"text-align: right;\">\n",
       "      <th></th>\n",
       "      <th>Rk</th>\n",
       "      <th>Player</th>\n",
       "      <th>Pos</th>\n",
       "      <th>Age</th>\n",
       "      <th>Tm</th>\n",
       "      <th>G</th>\n",
       "      <th>GS</th>\n",
       "      <th>MP</th>\n",
       "      <th>FG</th>\n",
       "      <th>FGA</th>\n",
       "      <th>...</th>\n",
       "      <th>FT%</th>\n",
       "      <th>ORB</th>\n",
       "      <th>DRB</th>\n",
       "      <th>TRB</th>\n",
       "      <th>AST</th>\n",
       "      <th>STL</th>\n",
       "      <th>BLK</th>\n",
       "      <th>TOV</th>\n",
       "      <th>PF</th>\n",
       "      <th>PTS</th>\n",
       "    </tr>\n",
       "  </thead>\n",
       "  <tbody>\n",
       "    <tr>\n",
       "      <th>0</th>\n",
       "      <td>1</td>\n",
       "      <td>Quincy Acy</td>\n",
       "      <td>PF</td>\n",
       "      <td>24</td>\n",
       "      <td>NYK</td>\n",
       "      <td>68</td>\n",
       "      <td>22</td>\n",
       "      <td>1287</td>\n",
       "      <td>152</td>\n",
       "      <td>331</td>\n",
       "      <td>...</td>\n",
       "      <td>.784</td>\n",
       "      <td>79</td>\n",
       "      <td>222</td>\n",
       "      <td>301</td>\n",
       "      <td>68</td>\n",
       "      <td>27</td>\n",
       "      <td>22</td>\n",
       "      <td>60</td>\n",
       "      <td>147</td>\n",
       "      <td>398</td>\n",
       "    </tr>\n",
       "    <tr>\n",
       "      <th>1</th>\n",
       "      <td>2</td>\n",
       "      <td>Jordan Adams</td>\n",
       "      <td>SG</td>\n",
       "      <td>20</td>\n",
       "      <td>MEM</td>\n",
       "      <td>30</td>\n",
       "      <td>0</td>\n",
       "      <td>248</td>\n",
       "      <td>35</td>\n",
       "      <td>86</td>\n",
       "      <td>...</td>\n",
       "      <td>.609</td>\n",
       "      <td>9</td>\n",
       "      <td>19</td>\n",
       "      <td>28</td>\n",
       "      <td>16</td>\n",
       "      <td>16</td>\n",
       "      <td>7</td>\n",
       "      <td>14</td>\n",
       "      <td>24</td>\n",
       "      <td>94</td>\n",
       "    </tr>\n",
       "    <tr>\n",
       "      <th>2</th>\n",
       "      <td>3</td>\n",
       "      <td>Steven Adams</td>\n",
       "      <td>C</td>\n",
       "      <td>21</td>\n",
       "      <td>OKC</td>\n",
       "      <td>70</td>\n",
       "      <td>67</td>\n",
       "      <td>1771</td>\n",
       "      <td>217</td>\n",
       "      <td>399</td>\n",
       "      <td>...</td>\n",
       "      <td>.502</td>\n",
       "      <td>199</td>\n",
       "      <td>324</td>\n",
       "      <td>523</td>\n",
       "      <td>66</td>\n",
       "      <td>38</td>\n",
       "      <td>86</td>\n",
       "      <td>99</td>\n",
       "      <td>222</td>\n",
       "      <td>537</td>\n",
       "    </tr>\n",
       "    <tr>\n",
       "      <th>3</th>\n",
       "      <td>4</td>\n",
       "      <td>Jeff Adrien</td>\n",
       "      <td>PF</td>\n",
       "      <td>28</td>\n",
       "      <td>MIN</td>\n",
       "      <td>17</td>\n",
       "      <td>0</td>\n",
       "      <td>215</td>\n",
       "      <td>19</td>\n",
       "      <td>44</td>\n",
       "      <td>...</td>\n",
       "      <td>.579</td>\n",
       "      <td>23</td>\n",
       "      <td>54</td>\n",
       "      <td>77</td>\n",
       "      <td>15</td>\n",
       "      <td>4</td>\n",
       "      <td>9</td>\n",
       "      <td>9</td>\n",
       "      <td>30</td>\n",
       "      <td>60</td>\n",
       "    </tr>\n",
       "    <tr>\n",
       "      <th>4</th>\n",
       "      <td>5</td>\n",
       "      <td>Arron Afflalo</td>\n",
       "      <td>SG</td>\n",
       "      <td>29</td>\n",
       "      <td>TOT</td>\n",
       "      <td>78</td>\n",
       "      <td>72</td>\n",
       "      <td>2502</td>\n",
       "      <td>375</td>\n",
       "      <td>884</td>\n",
       "      <td>...</td>\n",
       "      <td>.843</td>\n",
       "      <td>27</td>\n",
       "      <td>220</td>\n",
       "      <td>247</td>\n",
       "      <td>129</td>\n",
       "      <td>41</td>\n",
       "      <td>7</td>\n",
       "      <td>116</td>\n",
       "      <td>167</td>\n",
       "      <td>1035</td>\n",
       "    </tr>\n",
       "    <tr>\n",
       "      <th>...</th>\n",
       "      <td>...</td>\n",
       "      <td>...</td>\n",
       "      <td>...</td>\n",
       "      <td>...</td>\n",
       "      <td>...</td>\n",
       "      <td>...</td>\n",
       "      <td>...</td>\n",
       "      <td>...</td>\n",
       "      <td>...</td>\n",
       "      <td>...</td>\n",
       "      <td>...</td>\n",
       "      <td>...</td>\n",
       "      <td>...</td>\n",
       "      <td>...</td>\n",
       "      <td>...</td>\n",
       "      <td>...</td>\n",
       "      <td>...</td>\n",
       "      <td>...</td>\n",
       "      <td>...</td>\n",
       "      <td>...</td>\n",
       "      <td>...</td>\n",
       "    </tr>\n",
       "    <tr>\n",
       "      <th>670</th>\n",
       "      <td>490</td>\n",
       "      <td>Thaddeus Young</td>\n",
       "      <td>PF</td>\n",
       "      <td>26</td>\n",
       "      <td>TOT</td>\n",
       "      <td>76</td>\n",
       "      <td>68</td>\n",
       "      <td>2434</td>\n",
       "      <td>451</td>\n",
       "      <td>968</td>\n",
       "      <td>...</td>\n",
       "      <td>.655</td>\n",
       "      <td>127</td>\n",
       "      <td>284</td>\n",
       "      <td>411</td>\n",
       "      <td>173</td>\n",
       "      <td>124</td>\n",
       "      <td>25</td>\n",
       "      <td>117</td>\n",
       "      <td>171</td>\n",
       "      <td>1071</td>\n",
       "    </tr>\n",
       "    <tr>\n",
       "      <th>671</th>\n",
       "      <td>490</td>\n",
       "      <td>Thaddeus Young</td>\n",
       "      <td>PF</td>\n",
       "      <td>26</td>\n",
       "      <td>MIN</td>\n",
       "      <td>48</td>\n",
       "      <td>48</td>\n",
       "      <td>1605</td>\n",
       "      <td>289</td>\n",
       "      <td>641</td>\n",
       "      <td>...</td>\n",
       "      <td>.682</td>\n",
       "      <td>75</td>\n",
       "      <td>170</td>\n",
       "      <td>245</td>\n",
       "      <td>135</td>\n",
       "      <td>86</td>\n",
       "      <td>17</td>\n",
       "      <td>75</td>\n",
       "      <td>115</td>\n",
       "      <td>685</td>\n",
       "    </tr>\n",
       "    <tr>\n",
       "      <th>672</th>\n",
       "      <td>490</td>\n",
       "      <td>Thaddeus Young</td>\n",
       "      <td>PF</td>\n",
       "      <td>26</td>\n",
       "      <td>BRK</td>\n",
       "      <td>28</td>\n",
       "      <td>20</td>\n",
       "      <td>829</td>\n",
       "      <td>162</td>\n",
       "      <td>327</td>\n",
       "      <td>...</td>\n",
       "      <td>.606</td>\n",
       "      <td>52</td>\n",
       "      <td>114</td>\n",
       "      <td>166</td>\n",
       "      <td>38</td>\n",
       "      <td>38</td>\n",
       "      <td>8</td>\n",
       "      <td>42</td>\n",
       "      <td>56</td>\n",
       "      <td>386</td>\n",
       "    </tr>\n",
       "    <tr>\n",
       "      <th>673</th>\n",
       "      <td>491</td>\n",
       "      <td>Cody Zeller</td>\n",
       "      <td>C</td>\n",
       "      <td>22</td>\n",
       "      <td>CHO</td>\n",
       "      <td>62</td>\n",
       "      <td>45</td>\n",
       "      <td>1487</td>\n",
       "      <td>172</td>\n",
       "      <td>373</td>\n",
       "      <td>...</td>\n",
       "      <td>.774</td>\n",
       "      <td>97</td>\n",
       "      <td>265</td>\n",
       "      <td>362</td>\n",
       "      <td>100</td>\n",
       "      <td>34</td>\n",
       "      <td>49</td>\n",
       "      <td>62</td>\n",
       "      <td>156</td>\n",
       "      <td>472</td>\n",
       "    </tr>\n",
       "    <tr>\n",
       "      <th>674</th>\n",
       "      <td>492</td>\n",
       "      <td>Tyler Zeller</td>\n",
       "      <td>C</td>\n",
       "      <td>25</td>\n",
       "      <td>BOS</td>\n",
       "      <td>82</td>\n",
       "      <td>59</td>\n",
       "      <td>1731</td>\n",
       "      <td>340</td>\n",
       "      <td>619</td>\n",
       "      <td>...</td>\n",
       "      <td>.823</td>\n",
       "      <td>146</td>\n",
       "      <td>319</td>\n",
       "      <td>465</td>\n",
       "      <td>113</td>\n",
       "      <td>18</td>\n",
       "      <td>52</td>\n",
       "      <td>76</td>\n",
       "      <td>205</td>\n",
       "      <td>833</td>\n",
       "    </tr>\n",
       "  </tbody>\n",
       "</table>\n",
       "<p>675 rows × 30 columns</p>\n",
       "</div>"
      ],
      "text/plain": [
       "      Rk          Player Pos Age   Tm   G  GS    MP   FG  FGA  ...   FT%  ORB  \\\n",
       "0      1      Quincy Acy  PF  24  NYK  68  22  1287  152  331  ...  .784   79   \n",
       "1      2    Jordan Adams  SG  20  MEM  30   0   248   35   86  ...  .609    9   \n",
       "2      3    Steven Adams   C  21  OKC  70  67  1771  217  399  ...  .502  199   \n",
       "3      4     Jeff Adrien  PF  28  MIN  17   0   215   19   44  ...  .579   23   \n",
       "4      5   Arron Afflalo  SG  29  TOT  78  72  2502  375  884  ...  .843   27   \n",
       "..   ...             ...  ..  ..  ...  ..  ..   ...  ...  ...  ...   ...  ...   \n",
       "670  490  Thaddeus Young  PF  26  TOT  76  68  2434  451  968  ...  .655  127   \n",
       "671  490  Thaddeus Young  PF  26  MIN  48  48  1605  289  641  ...  .682   75   \n",
       "672  490  Thaddeus Young  PF  26  BRK  28  20   829  162  327  ...  .606   52   \n",
       "673  491     Cody Zeller   C  22  CHO  62  45  1487  172  373  ...  .774   97   \n",
       "674  492    Tyler Zeller   C  25  BOS  82  59  1731  340  619  ...  .823  146   \n",
       "\n",
       "     DRB  TRB  AST  STL BLK  TOV   PF   PTS  \n",
       "0    222  301   68   27  22   60  147   398  \n",
       "1     19   28   16   16   7   14   24    94  \n",
       "2    324  523   66   38  86   99  222   537  \n",
       "3     54   77   15    4   9    9   30    60  \n",
       "4    220  247  129   41   7  116  167  1035  \n",
       "..   ...  ...  ...  ...  ..  ...  ...   ...  \n",
       "670  284  411  173  124  25  117  171  1071  \n",
       "671  170  245  135   86  17   75  115   685  \n",
       "672  114  166   38   38   8   42   56   386  \n",
       "673  265  362  100   34  49   62  156   472  \n",
       "674  319  465  113   18  52   76  205   833  \n",
       "\n",
       "[675 rows x 30 columns]"
      ]
     },
     "execution_count": 26,
     "metadata": {},
     "output_type": "execute_result"
    }
   ],
   "source": [
    "web_data[0]"
   ]
  },
  {
   "cell_type": "markdown",
   "id": "32cfe8f7",
   "metadata": {},
   "source": [
    "# Binary Data format"
   ]
  },
  {
   "cell_type": "code",
   "execution_count": 34,
   "id": "c44f9f47",
   "metadata": {},
   "outputs": [],
   "source": [
    "#store in binary pickel format\n",
    "df = pd.read_csv('C:/Users/Ratnadeep/Desktop/python/Self Based Pandas/data.csv')\n",
    "df.to_pickle('C:/Users/Ratnadeep/Desktop/python/Self Based Pandas/binary')"
   ]
  },
  {
   "cell_type": "code",
   "execution_count": 35,
   "id": "ae6b6a74",
   "metadata": {},
   "outputs": [
    {
     "data": {
      "text/html": [
       "<div>\n",
       "<style scoped>\n",
       "    .dataframe tbody tr th:only-of-type {\n",
       "        vertical-align: middle;\n",
       "    }\n",
       "\n",
       "    .dataframe tbody tr th {\n",
       "        vertical-align: top;\n",
       "    }\n",
       "\n",
       "    .dataframe thead th {\n",
       "        text-align: right;\n",
       "    }\n",
       "</style>\n",
       "<table border=\"1\" class=\"dataframe\">\n",
       "  <thead>\n",
       "    <tr style=\"text-align: right;\">\n",
       "      <th></th>\n",
       "      <th>Url Car</th>\n",
       "      <th>Name</th>\n",
       "      <th>Price</th>\n",
       "      <th>Brand</th>\n",
       "      <th>Condition</th>\n",
       "      <th>Img</th>\n",
       "      <th>Img Url</th>\n",
       "    </tr>\n",
       "  </thead>\n",
       "  <tbody>\n",
       "    <tr>\n",
       "      <th>0</th>\n",
       "      <td>https://ikman.lk/en/ad/audi-a4-20tdi-2014-for-...</td>\n",
       "      <td>Audi A4 2.0TDi 2014</td>\n",
       "      <td>72500.0</td>\n",
       "      <td>Audi</td>\n",
       "      <td>Used</td>\n",
       "      <td>Img/0.png</td>\n",
       "      <td>https://i.ikman-st.com/audi-a4-20tdi-2014-for-...</td>\n",
       "    </tr>\n",
       "    <tr>\n",
       "      <th>1</th>\n",
       "      <td>https://ikman.lk/en/ad/mercedes-benz-e300-nigh...</td>\n",
       "      <td>Mercedes Benz E300 Night Edition 2015</td>\n",
       "      <td>107500.0</td>\n",
       "      <td>Mercedes Benz</td>\n",
       "      <td>Used</td>\n",
       "      <td>Img/0.png</td>\n",
       "      <td>https://i.ikman-st.com/mercedes-benz-e300-nigh...</td>\n",
       "    </tr>\n",
       "    <tr>\n",
       "      <th>2</th>\n",
       "      <td>https://ikman.lk/en/ad/mercedes-benz-c200-head...</td>\n",
       "      <td>Mercedes Benz C200 headup display 2015</td>\n",
       "      <td>109000.0</td>\n",
       "      <td>Mercedes Benz</td>\n",
       "      <td>Used</td>\n",
       "      <td>Img/0.png</td>\n",
       "      <td>https://i.ikman-st.com/mercedes-benz-c200-head...</td>\n",
       "    </tr>\n",
       "    <tr>\n",
       "      <th>3</th>\n",
       "      <td>https://ikman.lk/en/ad/toyota-axio-x-grade-200...</td>\n",
       "      <td>Toyota Axio X Grade 2007</td>\n",
       "      <td>31125.0</td>\n",
       "      <td>Toyota</td>\n",
       "      <td>Used</td>\n",
       "      <td>Img/0.png</td>\n",
       "      <td>https://i.ikman-st.com/toyota-axio-x-grade-200...</td>\n",
       "    </tr>\n",
       "    <tr>\n",
       "      <th>4</th>\n",
       "      <td>https://ikman.lk/en/ad/micro-panda-12000kms-20...</td>\n",
       "      <td>Micro Panda 12000KMs 2015</td>\n",
       "      <td>12475.0</td>\n",
       "      <td>Micro</td>\n",
       "      <td>Used</td>\n",
       "      <td>Img/0.png</td>\n",
       "      <td>https://i.ikman-st.com/micro-panda-12000kms-20...</td>\n",
       "    </tr>\n",
       "    <tr>\n",
       "      <th>...</th>\n",
       "      <td>...</td>\n",
       "      <td>...</td>\n",
       "      <td>...</td>\n",
       "      <td>...</td>\n",
       "      <td>...</td>\n",
       "      <td>...</td>\n",
       "      <td>...</td>\n",
       "    </tr>\n",
       "    <tr>\n",
       "      <th>263</th>\n",
       "      <td>https://ikman.lk/en/ad/alfa-romeo-fiat-uno-lks...</td>\n",
       "      <td>Fiat Uno 1984</td>\n",
       "      <td>2750.0</td>\n",
       "      <td>Fiat</td>\n",
       "      <td>Used</td>\n",
       "      <td>Img/0.png</td>\n",
       "      <td>https://i.ikman-st.com/alfa-romeo-fiat-uno-lks...</td>\n",
       "    </tr>\n",
       "    <tr>\n",
       "      <th>264</th>\n",
       "      <td>https://ikman.lk/en/ad/toyota-land-cruiser-pra...</td>\n",
       "      <td>Toyota Land Cruiser Prado 2003</td>\n",
       "      <td>59375.0</td>\n",
       "      <td>Toyota</td>\n",
       "      <td>Used</td>\n",
       "      <td>Img/0.png</td>\n",
       "      <td>https://i.ikman-st.com/toyota-land-cruiser-pra...</td>\n",
       "    </tr>\n",
       "    <tr>\n",
       "      <th>265</th>\n",
       "      <td>https://ikman.lk/en/ad/mercedes-benz-c180-cabr...</td>\n",
       "      <td>Mercedes Benz C180 Cabriolet 2017</td>\n",
       "      <td>140000.0</td>\n",
       "      <td>Mercedes Benz</td>\n",
       "      <td>Used</td>\n",
       "      <td>Img/0.png</td>\n",
       "      <td>https://i.ikman-st.com/mercedes-benz-c180-cabr...</td>\n",
       "    </tr>\n",
       "    <tr>\n",
       "      <th>266</th>\n",
       "      <td>https://ikman.lk/en/ad/bmw-x1-s-drive-diesel-2...</td>\n",
       "      <td>BMW X1 S Drive Diesel 2011</td>\n",
       "      <td>57250.0</td>\n",
       "      <td>BMW</td>\n",
       "      <td>Used</td>\n",
       "      <td>Img/0.png</td>\n",
       "      <td>https://i.ikman-st.com/bmw-x1-s-drive-diesel-2...</td>\n",
       "    </tr>\n",
       "    <tr>\n",
       "      <th>267</th>\n",
       "      <td>https://ikman.lk/en/ad/toyota-prius-s-grade-20...</td>\n",
       "      <td>Toyota Prius S Grade 2015</td>\n",
       "      <td>42750.0</td>\n",
       "      <td>Toyota</td>\n",
       "      <td>Used</td>\n",
       "      <td>Img/0.png</td>\n",
       "      <td>https://i.ikman-st.com/toyota-prius-s-grade-20...</td>\n",
       "    </tr>\n",
       "  </tbody>\n",
       "</table>\n",
       "<p>268 rows × 7 columns</p>\n",
       "</div>"
      ],
      "text/plain": [
       "                                               Url Car  \\\n",
       "0    https://ikman.lk/en/ad/audi-a4-20tdi-2014-for-...   \n",
       "1    https://ikman.lk/en/ad/mercedes-benz-e300-nigh...   \n",
       "2    https://ikman.lk/en/ad/mercedes-benz-c200-head...   \n",
       "3    https://ikman.lk/en/ad/toyota-axio-x-grade-200...   \n",
       "4    https://ikman.lk/en/ad/micro-panda-12000kms-20...   \n",
       "..                                                 ...   \n",
       "263  https://ikman.lk/en/ad/alfa-romeo-fiat-uno-lks...   \n",
       "264  https://ikman.lk/en/ad/toyota-land-cruiser-pra...   \n",
       "265  https://ikman.lk/en/ad/mercedes-benz-c180-cabr...   \n",
       "266  https://ikman.lk/en/ad/bmw-x1-s-drive-diesel-2...   \n",
       "267  https://ikman.lk/en/ad/toyota-prius-s-grade-20...   \n",
       "\n",
       "                                       Name     Price          Brand  \\\n",
       "0                       Audi A4 2.0TDi 2014   72500.0           Audi   \n",
       "1     Mercedes Benz E300 Night Edition 2015  107500.0  Mercedes Benz   \n",
       "2    Mercedes Benz C200 headup display 2015  109000.0  Mercedes Benz   \n",
       "3                  Toyota Axio X Grade 2007   31125.0         Toyota   \n",
       "4                 Micro Panda 12000KMs 2015   12475.0          Micro   \n",
       "..                                      ...       ...            ...   \n",
       "263                           Fiat Uno 1984    2750.0           Fiat   \n",
       "264          Toyota Land Cruiser Prado 2003   59375.0         Toyota   \n",
       "265       Mercedes Benz C180 Cabriolet 2017  140000.0  Mercedes Benz   \n",
       "266              BMW X1 S Drive Diesel 2011   57250.0            BMW   \n",
       "267               Toyota Prius S Grade 2015   42750.0         Toyota   \n",
       "\n",
       "    Condition        Img                                            Img Url  \n",
       "0        Used  Img/0.png  https://i.ikman-st.com/audi-a4-20tdi-2014-for-...  \n",
       "1        Used  Img/0.png  https://i.ikman-st.com/mercedes-benz-e300-nigh...  \n",
       "2        Used  Img/0.png  https://i.ikman-st.com/mercedes-benz-c200-head...  \n",
       "3        Used  Img/0.png  https://i.ikman-st.com/toyota-axio-x-grade-200...  \n",
       "4        Used  Img/0.png  https://i.ikman-st.com/micro-panda-12000kms-20...  \n",
       "..        ...        ...                                                ...  \n",
       "263      Used  Img/0.png  https://i.ikman-st.com/alfa-romeo-fiat-uno-lks...  \n",
       "264      Used  Img/0.png  https://i.ikman-st.com/toyota-land-cruiser-pra...  \n",
       "265      Used  Img/0.png  https://i.ikman-st.com/mercedes-benz-c180-cabr...  \n",
       "266      Used  Img/0.png  https://i.ikman-st.com/bmw-x1-s-drive-diesel-2...  \n",
       "267      Used  Img/0.png  https://i.ikman-st.com/toyota-prius-s-grade-20...  \n",
       "\n",
       "[268 rows x 7 columns]"
      ]
     },
     "execution_count": 35,
     "metadata": {},
     "output_type": "execute_result"
    }
   ],
   "source": [
    "pd .read_pickle('C:/Users/Ratnadeep/Desktop/python/Self Based Pandas/binary')"
   ]
  },
  {
   "cell_type": "code",
   "execution_count": 36,
   "id": "50eff21a",
   "metadata": {},
   "outputs": [
    {
     "data": {
      "text/html": [
       "<div>\n",
       "<style scoped>\n",
       "    .dataframe tbody tr th:only-of-type {\n",
       "        vertical-align: middle;\n",
       "    }\n",
       "\n",
       "    .dataframe tbody tr th {\n",
       "        vertical-align: top;\n",
       "    }\n",
       "\n",
       "    .dataframe thead th {\n",
       "        text-align: right;\n",
       "    }\n",
       "</style>\n",
       "<table border=\"1\" class=\"dataframe\">\n",
       "  <thead>\n",
       "    <tr style=\"text-align: right;\">\n",
       "      <th></th>\n",
       "      <th>a</th>\n",
       "    </tr>\n",
       "  </thead>\n",
       "  <tbody>\n",
       "    <tr>\n",
       "      <th>0</th>\n",
       "      <td>0.214359</td>\n",
       "    </tr>\n",
       "    <tr>\n",
       "      <th>1</th>\n",
       "      <td>0.448211</td>\n",
       "    </tr>\n",
       "    <tr>\n",
       "      <th>2</th>\n",
       "      <td>0.560779</td>\n",
       "    </tr>\n",
       "    <tr>\n",
       "      <th>3</th>\n",
       "      <td>0.507205</td>\n",
       "    </tr>\n",
       "    <tr>\n",
       "      <th>4</th>\n",
       "      <td>0.789445</td>\n",
       "    </tr>\n",
       "    <tr>\n",
       "      <th>...</th>\n",
       "      <td>...</td>\n",
       "    </tr>\n",
       "    <tr>\n",
       "      <th>95</th>\n",
       "      <td>0.315695</td>\n",
       "    </tr>\n",
       "    <tr>\n",
       "      <th>96</th>\n",
       "      <td>0.497833</td>\n",
       "    </tr>\n",
       "    <tr>\n",
       "      <th>97</th>\n",
       "      <td>0.026337</td>\n",
       "    </tr>\n",
       "    <tr>\n",
       "      <th>98</th>\n",
       "      <td>0.281174</td>\n",
       "    </tr>\n",
       "    <tr>\n",
       "      <th>99</th>\n",
       "      <td>0.543416</td>\n",
       "    </tr>\n",
       "  </tbody>\n",
       "</table>\n",
       "<p>100 rows × 1 columns</p>\n",
       "</div>"
      ],
      "text/plain": [
       "           a\n",
       "0   0.214359\n",
       "1   0.448211\n",
       "2   0.560779\n",
       "3   0.507205\n",
       "4   0.789445\n",
       "..       ...\n",
       "95  0.315695\n",
       "96  0.497833\n",
       "97  0.026337\n",
       "98  0.281174\n",
       "99  0.543416\n",
       "\n",
       "[100 rows x 1 columns]"
      ]
     },
     "execution_count": 36,
     "metadata": {},
     "output_type": "execute_result"
    }
   ],
   "source": [
    "import numpy as np;\n",
    "frame = pd .DataFrame({'a':np.random.rand(100)})\n",
    "frame"
   ]
  },
  {
   "cell_type": "code",
   "execution_count": 37,
   "id": "f84d6b0d",
   "metadata": {},
   "outputs": [],
   "source": [
    "#store in binary h5 format\n",
    "storeh5 = pd.HDFStore('storeh5.h5')"
   ]
  },
  {
   "cell_type": "code",
   "execution_count": 41,
   "id": "f883a0ca",
   "metadata": {},
   "outputs": [],
   "source": [
    "storeh5['obj1'] = frame\n",
    "storeh5['obj1_col'] = frame['a']"
   ]
  },
  {
   "cell_type": "code",
   "execution_count": 42,
   "id": "b7d6f954",
   "metadata": {},
   "outputs": [
    {
     "data": {
      "text/html": [
       "<div>\n",
       "<style scoped>\n",
       "    .dataframe tbody tr th:only-of-type {\n",
       "        vertical-align: middle;\n",
       "    }\n",
       "\n",
       "    .dataframe tbody tr th {\n",
       "        vertical-align: top;\n",
       "    }\n",
       "\n",
       "    .dataframe thead th {\n",
       "        text-align: right;\n",
       "    }\n",
       "</style>\n",
       "<table border=\"1\" class=\"dataframe\">\n",
       "  <thead>\n",
       "    <tr style=\"text-align: right;\">\n",
       "      <th></th>\n",
       "      <th>a</th>\n",
       "    </tr>\n",
       "  </thead>\n",
       "  <tbody>\n",
       "    <tr>\n",
       "      <th>0</th>\n",
       "      <td>0.214359</td>\n",
       "    </tr>\n",
       "    <tr>\n",
       "      <th>1</th>\n",
       "      <td>0.448211</td>\n",
       "    </tr>\n",
       "    <tr>\n",
       "      <th>2</th>\n",
       "      <td>0.560779</td>\n",
       "    </tr>\n",
       "    <tr>\n",
       "      <th>3</th>\n",
       "      <td>0.507205</td>\n",
       "    </tr>\n",
       "    <tr>\n",
       "      <th>4</th>\n",
       "      <td>0.789445</td>\n",
       "    </tr>\n",
       "    <tr>\n",
       "      <th>...</th>\n",
       "      <td>...</td>\n",
       "    </tr>\n",
       "    <tr>\n",
       "      <th>95</th>\n",
       "      <td>0.315695</td>\n",
       "    </tr>\n",
       "    <tr>\n",
       "      <th>96</th>\n",
       "      <td>0.497833</td>\n",
       "    </tr>\n",
       "    <tr>\n",
       "      <th>97</th>\n",
       "      <td>0.026337</td>\n",
       "    </tr>\n",
       "    <tr>\n",
       "      <th>98</th>\n",
       "      <td>0.281174</td>\n",
       "    </tr>\n",
       "    <tr>\n",
       "      <th>99</th>\n",
       "      <td>0.543416</td>\n",
       "    </tr>\n",
       "  </tbody>\n",
       "</table>\n",
       "<p>100 rows × 1 columns</p>\n",
       "</div>"
      ],
      "text/plain": [
       "           a\n",
       "0   0.214359\n",
       "1   0.448211\n",
       "2   0.560779\n",
       "3   0.507205\n",
       "4   0.789445\n",
       "..       ...\n",
       "95  0.315695\n",
       "96  0.497833\n",
       "97  0.026337\n",
       "98  0.281174\n",
       "99  0.543416\n",
       "\n",
       "[100 rows x 1 columns]"
      ]
     },
     "execution_count": 42,
     "metadata": {},
     "output_type": "execute_result"
    }
   ],
   "source": [
    "storeh5['obj1']"
   ]
  },
  {
   "cell_type": "code",
   "execution_count": 43,
   "id": "3cd11c24",
   "metadata": {},
   "outputs": [
    {
     "data": {
      "text/html": [
       "<div>\n",
       "<style scoped>\n",
       "    .dataframe tbody tr th:only-of-type {\n",
       "        vertical-align: middle;\n",
       "    }\n",
       "\n",
       "    .dataframe tbody tr th {\n",
       "        vertical-align: top;\n",
       "    }\n",
       "\n",
       "    .dataframe thead th {\n",
       "        text-align: right;\n",
       "    }\n",
       "</style>\n",
       "<table border=\"1\" class=\"dataframe\">\n",
       "  <thead>\n",
       "    <tr style=\"text-align: right;\">\n",
       "      <th></th>\n",
       "      <th>a</th>\n",
       "    </tr>\n",
       "  </thead>\n",
       "  <tbody>\n",
       "    <tr>\n",
       "      <th>0</th>\n",
       "      <td>0.214359</td>\n",
       "    </tr>\n",
       "    <tr>\n",
       "      <th>1</th>\n",
       "      <td>0.448211</td>\n",
       "    </tr>\n",
       "    <tr>\n",
       "      <th>2</th>\n",
       "      <td>0.560779</td>\n",
       "    </tr>\n",
       "    <tr>\n",
       "      <th>3</th>\n",
       "      <td>0.507205</td>\n",
       "    </tr>\n",
       "    <tr>\n",
       "      <th>4</th>\n",
       "      <td>0.789445</td>\n",
       "    </tr>\n",
       "    <tr>\n",
       "      <th>...</th>\n",
       "      <td>...</td>\n",
       "    </tr>\n",
       "    <tr>\n",
       "      <th>95</th>\n",
       "      <td>0.315695</td>\n",
       "    </tr>\n",
       "    <tr>\n",
       "      <th>96</th>\n",
       "      <td>0.497833</td>\n",
       "    </tr>\n",
       "    <tr>\n",
       "      <th>97</th>\n",
       "      <td>0.026337</td>\n",
       "    </tr>\n",
       "    <tr>\n",
       "      <th>98</th>\n",
       "      <td>0.281174</td>\n",
       "    </tr>\n",
       "    <tr>\n",
       "      <th>99</th>\n",
       "      <td>0.543416</td>\n",
       "    </tr>\n",
       "  </tbody>\n",
       "</table>\n",
       "<p>100 rows × 1 columns</p>\n",
       "</div>"
      ],
      "text/plain": [
       "           a\n",
       "0   0.214359\n",
       "1   0.448211\n",
       "2   0.560779\n",
       "3   0.507205\n",
       "4   0.789445\n",
       "..       ...\n",
       "95  0.315695\n",
       "96  0.497833\n",
       "97  0.026337\n",
       "98  0.281174\n",
       "99  0.543416\n",
       "\n",
       "[100 rows x 1 columns]"
      ]
     },
     "execution_count": 43,
     "metadata": {},
     "output_type": "execute_result"
    }
   ],
   "source": [
    "frame"
   ]
  },
  {
   "cell_type": "markdown",
   "id": "b9fab79d",
   "metadata": {},
   "source": [
    "# Web API"
   ]
  },
  {
   "cell_type": "code",
   "execution_count": 49,
   "id": "243893c6",
   "metadata": {},
   "outputs": [
    {
     "data": {
      "text/plain": [
       "<Response [200]>"
      ]
     },
     "execution_count": 49,
     "metadata": {},
     "output_type": "execute_result"
    }
   ],
   "source": [
    "import requests\n",
    "url = 'https://api.github.com/repos/pandas-dev/pandas/issues'\n",
    "resp = requests.get(url)\n",
    "resp"
   ]
  },
  {
   "cell_type": "code",
   "execution_count": 52,
   "id": "8437b82b",
   "metadata": {},
   "outputs": [
    {
     "data": {
      "text/plain": [
       "{'login': 'meeseeksmachine',\n",
       " 'id': 39504233,\n",
       " 'node_id': 'MDQ6VXNlcjM5NTA0MjMz',\n",
       " 'avatar_url': 'https://avatars.githubusercontent.com/u/39504233?v=4',\n",
       " 'gravatar_id': '',\n",
       " 'url': 'https://api.github.com/users/meeseeksmachine',\n",
       " 'html_url': 'https://github.com/meeseeksmachine',\n",
       " 'followers_url': 'https://api.github.com/users/meeseeksmachine/followers',\n",
       " 'following_url': 'https://api.github.com/users/meeseeksmachine/following{/other_user}',\n",
       " 'gists_url': 'https://api.github.com/users/meeseeksmachine/gists{/gist_id}',\n",
       " 'starred_url': 'https://api.github.com/users/meeseeksmachine/starred{/owner}{/repo}',\n",
       " 'subscriptions_url': 'https://api.github.com/users/meeseeksmachine/subscriptions',\n",
       " 'organizations_url': 'https://api.github.com/users/meeseeksmachine/orgs',\n",
       " 'repos_url': 'https://api.github.com/users/meeseeksmachine/repos',\n",
       " 'events_url': 'https://api.github.com/users/meeseeksmachine/events{/privacy}',\n",
       " 'received_events_url': 'https://api.github.com/users/meeseeksmachine/received_events',\n",
       " 'type': 'User',\n",
       " 'site_admin': False}"
      ]
     },
     "execution_count": 52,
     "metadata": {},
     "output_type": "execute_result"
    }
   ],
   "source": [
    "data = resp.json()\n",
    "data[1]['user']"
   ]
  },
  {
   "cell_type": "code",
   "execution_count": 53,
   "id": "b6884ecf",
   "metadata": {},
   "outputs": [
    {
     "data": {
      "text/plain": [
       "39504233"
      ]
     },
     "execution_count": 53,
     "metadata": {},
     "output_type": "execute_result"
    }
   ],
   "source": [
    "data[1]['user']['id']"
   ]
  },
  {
   "cell_type": "code",
   "execution_count": 54,
   "id": "36dd5a68",
   "metadata": {},
   "outputs": [
    {
     "name": "stdout",
     "output_type": "stream",
     "text": [
      "12157034\n",
      "39504233\n",
      "8078968\n",
      "160132\n",
      "31899203\n",
      "39696536\n",
      "39696536\n",
      "54274219\n",
      "31857876\n",
      "91728754\n",
      "8078968\n",
      "6618166\n",
      "37011898\n",
      "89147478\n",
      "75975268\n",
      "26186714\n",
      "45828280\n",
      "38472982\n",
      "24256554\n",
      "6618166\n",
      "16756448\n",
      "14806954\n",
      "38472982\n",
      "38295417\n",
      "6618166\n",
      "9954897\n",
      "12542576\n",
      "33226523\n",
      "5131271\n",
      "28805843\n"
     ]
    }
   ],
   "source": [
    "for i in range(len(data)):\n",
    "    print(data[i]['user']['id'])"
   ]
  },
  {
   "cell_type": "code",
   "execution_count": null,
   "id": "45ddf964",
   "metadata": {},
   "outputs": [],
   "source": []
  }
 ],
 "metadata": {
  "kernelspec": {
   "display_name": "Python 3",
   "language": "python",
   "name": "python3"
  },
  "language_info": {
   "codemirror_mode": {
    "name": "ipython",
    "version": 3
   },
   "file_extension": ".py",
   "mimetype": "text/x-python",
   "name": "python",
   "nbconvert_exporter": "python",
   "pygments_lexer": "ipython3",
   "version": "3.8.8"
  }
 },
 "nbformat": 4,
 "nbformat_minor": 5
}
